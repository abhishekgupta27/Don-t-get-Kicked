{
  "nbformat": 4,
  "nbformat_minor": 0,
  "metadata": {
    "colab": {
      "name": "Discritization.ipynb",
      "provenance": [],
      "collapsed_sections": []
    },
    "kernelspec": {
      "name": "python3",
      "display_name": "Python 3"
    },
    "language_info": {
      "name": "python"
    }
  },
  "cells": [
    {
      "cell_type": "code",
      "metadata": {
        "id": "p5SUbOTR3ST_"
      },
      "source": [
        "!pip install sklearn-genetic\n",
        "!pip install pycaret-nightly"
      ],
      "execution_count": null,
      "outputs": []
    },
    {
      "cell_type": "code",
      "metadata": {
        "id": "J72X0Na0oryj"
      },
      "source": [
        "import pandas as pd \n",
        "import numpy as np \n",
        "import sklearn\n",
        "from google.colab import files, drive, data_table\n",
        "from google.colab.data_table import *\n",
        "from lightgbm import *\n",
        "from sklearn.ensemble import *\n",
        "from sklearn.ensemble import *\n",
        "from sklearn.model_selection import *\n",
        "from xgboost import *\n",
        "from sklearn.svm import *\n",
        "from sklearn.linear_model import *\n",
        "from sklearn.metrics import *\n",
        "from sklearn import preprocessing\n",
        "from sklearn.tree import *\n",
        "from sklearn.utils import *\n",
        "from yellowbrick.model_selection import * \n",
        "from genetic_selection import GeneticSelectionCV\n",
        "from yellowbrick.classifier import * \n",
        "import matplotlib.pyplot as plt\n",
        "import pandas as pd\n",
        "import scipy.stats as scs\n",
        "import warnings\n",
        "warnings.filterwarnings(\"ignore\")\n",
        "from sklearn.feature_selection import chi2\n",
        "mcc = make_scorer(matthews_corrcoef)"
      ],
      "execution_count": null,
      "outputs": []
    },
    {
      "cell_type": "code",
      "metadata": {
        "id": "B_J2qenPo68E"
      },
      "source": [
        "D = pd.read_csv(\"/content/drive/MyDrive/Reddy_NLP/test_cleaned.csv\")\n",
        "#D.describe()\n",
        "#D.info()"
      ],
      "execution_count": null,
      "outputs": []
    },
    {
      "cell_type": "code",
      "metadata": {
        "id": "R1HVCdrqxZFV"
      },
      "source": [
        "\n",
        "\n",
        "bins = [D.VehBCost.min(),5000, 7000, 8000, 10000, D.VehBCost.max()]\n",
        "D['VehBCost'] = pd.cut(D['VehBCost'], bins)\n",
        "\n",
        "bins = [D.WarrantyCost.min(),700, 1200, 1800, 2600, D.WarrantyCost.max()]\n",
        "D['WarrantyCost'] = pd.cut(D['WarrantyCost'], bins)\n",
        "\n",
        "bins = [D.VehOdo.min(),40000, 60000, 80000, 100000, D.VehOdo.max()]\n",
        "D['VehOdo'] = pd.cut(D['VehOdo'], bins)\n",
        "\n",
        "D['VehicleAge'] = pd.cut(D['VehicleAge'], [0, 2, 4, 6, 8, 10], right=False)\n",
        "\n",
        "bins = [D.ARCP.min(), 3000, 6000, 8000, 10000, D.ARCP.max()]\n",
        "D['ARCP'] = pd.cut(D['ARCP'], bins)\n",
        "\n",
        "bins = [D.AAAP.min() - 1, 3000, 6000, 8000, 10000, D.AAAP.max()]\n",
        "D['AAAP'] = pd.cut(D['AAAP'], bins)\n",
        "\n",
        "bins = [D.AACP.min() - 1, 3000, 6000, 8000, 10000, D.AACP.max()]\n",
        "D['AACP'] = pd.cut(D['AACP'], bins)\n",
        "\n",
        "\n",
        "bins = [D.ARAP.min() - 1, 3000, 6000, 8000, 10000, D.ARAP.max()]\n",
        "D['ARAP'] = pd.cut(D['ARAP'], bins)\n",
        "\n",
        "bins = [D.CAAP.min() - 1, 3000, 6000, 8000, 10000, D.CAAP.max()]\n",
        "D['CAAP'] = pd.cut(D['CAAP'], bins)\n",
        "\n",
        "bins = [D.CACP.min() - 1, 3000, 6000, 8000, 10000, D.CACP.max()]\n",
        "D['CACP'] = pd.cut(D['CACP'], bins)\n",
        "\n",
        "bins = [D.CRAP.min() - 1, 3000, 6000, 8000, 10000, D.CRAP.max()]\n",
        "D['CRAP'] = pd.cut(D['CRAP'], bins)\n",
        "\n",
        "bins = [D.CRCP.min() - 1, 3000, 6000, 8000, 10000, D.CRCP.max()]\n",
        "D['CRCP'] = pd.cut(D['CRCP'], bins)\n",
        "\n"
      ],
      "execution_count": null,
      "outputs": []
    },
    {
      "cell_type": "code",
      "metadata": {
        "id": "CmYRc2uz0W8k"
      },
      "source": [
        " \n",
        "label_encoder = preprocessing.LabelEncoder()\n",
        "\n",
        "c1_columns = list(D.select_dtypes(include='object').columns)\n",
        "c2_columns = list(D.select_dtypes(include='category').columns)\n",
        "cat_columns = c1_columns+c2_columns\n",
        "\n",
        "for c in cat_columns:\n",
        "  D[c] = label_encoder.fit_transform(D[c])"
      ],
      "execution_count": null,
      "outputs": []
    },
    {
      "cell_type": "code",
      "metadata": {
        "id": "H9x4zQ3wx1M7"
      },
      "source": [
        "\n",
        "D = D.drop([\"Unnamed: 0\",\"RefId\",\"BYRNO\",'PurchDate','TopThreeAmericanName','IsOnlineSale','Region','IsBase','AuctionAVG','RetailAVG','Trend'], axis=1)"
      ],
      "execution_count": null,
      "outputs": []
    },
    {
      "cell_type": "code",
      "metadata": {
        "id": "60gF2t6W5FYB"
      },
      "source": [
        "allfeats = list(D.columns)\n",
        "allfeats.remove('IsBadBuy')"
      ],
      "execution_count": null,
      "outputs": []
    },
    {
      "cell_type": "code",
      "metadata": {
        "id": "y_9yxYuY8TuS"
      },
      "source": [
        "D.iloc[:,-1] = D.iloc[:,-1].astype(np.int64)\n",
        "X = D[allfeats] ; y = D[\"IsBadBuy\"].values"
      ],
      "execution_count": null,
      "outputs": []
    },
    {
      "cell_type": "code",
      "metadata": {
        "colab": {
          "base_uri": "https://localhost:8080/"
        },
        "id": "qe7WGKqc23wY",
        "outputId": "6255a81f-e403-4403-d6d7-6cb81d5463ed"
      },
      "source": [
        "\n",
        "estimator = LogisticRegression(solver = \"liblinear\", C = 1, tol = 1, fit_intercept = True)\n",
        "\n",
        "from sklearn.model_selection import *\n",
        "report = pd.DataFrame()\n",
        "nofeats = [] \n",
        "chosen_feats = [] \n",
        "cvscore = [] \n",
        "rkf = RepeatedStratifiedKFold(n_repeats = 5, n_splits = 5)\n",
        "for i in range(2,22):\n",
        "  \n",
        "  selector = GeneticSelectionCV(estimator,\n",
        "                                cv = rkf,\n",
        "                                verbose = 0,\n",
        "                                scoring = mcc,\n",
        "                                max_features = i,\n",
        "                                n_population = 50,\n",
        "                                crossover_proba = 0.5,\n",
        "                                mutation_proba = 0.2,\n",
        "                                n_generations = 5,\n",
        "                                crossover_independent_proba=0.5,\n",
        "                                mutation_independent_proba=0.1,\n",
        "                                #tournament_size = 3,\n",
        "                                n_gen_no_change=5,\n",
        "                                caching=True,\n",
        "                                n_jobs=-1)\n",
        "  selector = selector.fit(D[allfeats], y)\n",
        "  genfeats = D[allfeats].columns[selector.support_]\n",
        "  genfeats = list(genfeats)\n",
        "  print(\"Chosen Feats:  \", genfeats)\n",
        "\n",
        "  cv_score = selector.generation_scores_[-1]\n",
        "  nofeats.append(len(genfeats)) \n",
        "  chosen_feats.append(genfeats) \n",
        "  cvscore.append(cv_score)\n",
        "report[\"No of Feats\"] = nofeats\n",
        "report[\"Chosen Feats\"] = chosen_feats\n",
        "report[\"Scores\"] = cvscore\n"
      ],
      "execution_count": null,
      "outputs": [
        {
          "output_type": "stream",
          "text": [
            "Chosen Feats:   ['VehicleAge']\n",
            "Chosen Feats:   ['VehicleAge', 'VehOdo']\n",
            "Chosen Feats:   ['VehicleAge', 'VehOdo', 'ARCP']\n",
            "Chosen Feats:   ['VehicleAge', 'VehOdo', 'ARCP', 'VehBCost']\n",
            "Chosen Feats:   ['VehicleAge', 'VehOdo', 'ARCP', 'VehBCost', 'WarrantyCost']\n"
          ],
          "name": "stdout"
        }
      ]
    },
    {
      "cell_type": "code",
      "metadata": {
        "colab": {
          "base_uri": "https://localhost:8080/"
        },
        "id": "c6w9bLq29rmX",
        "outputId": "97f98049-4127-4e59-a4bf-51820f0be98c"
      },
      "source": [
        "\n",
        "report[\"Scores\"] = np.round(report[\"Scores\"], 3)\n",
        "report.sort_values(by = \"Scores\", ascending = False, inplace = True)\n",
        "#report.index\n",
        "ga_feats = report.iloc[0][\"Chosen Feats\"]\n",
        "DataTable(report)\n",
        "print(ga_feats)"
      ],
      "execution_count": null,
      "outputs": [
        {
          "output_type": "stream",
          "text": [
            "['VehicleAge', 'VehOdo', 'ARCP', 'VehBCost', 'WarrantyCost']\n"
          ],
          "name": "stdout"
        }
      ]
    },
    {
      "cell_type": "code",
      "metadata": {
        "colab": {
          "base_uri": "https://localhost:8080/"
        },
        "id": "O2L9Tc0Lymie",
        "outputId": "e430e746-d7d9-4651-a906-ed6fd50f3bb9"
      },
      "source": [
        "\n",
        "def categories(series):\n",
        "    return range(int(series.min()), int(series.max()) + 1)\n",
        "\n",
        "\n",
        "def chi_square_of_df_cols(df, col1, col2):\n",
        "    df_col1, df_col2 = df[col1], df[col2]\n",
        "\n",
        "    result = [[sum((df_col1 == cat1) & (df_col2 == cat2))\n",
        "               for cat2 in categories(df_col2)]\n",
        "              for cat1 in categories(df_col1)]\n",
        "\n",
        "    return scs.chi2_contingency(result)\n",
        "\n",
        "useful_col = []\n",
        "alpha = 0.05\n",
        "for c in list(D.columns):\n",
        "      stat, p, dof, expected = chi_square_of_df_cols(D, c, 'IsBadBuy')\n",
        "      if p<alpha:\n",
        "        useful_col.append(c)\n",
        "\n",
        "print(useful_col)\n",
        "\n"
      ],
      "execution_count": null,
      "outputs": [
        {
          "output_type": "stream",
          "text": [
            "['VehicleAge', 'VehOdo', 'ARCP', 'ARAP', 'CRCP', 'VehBCost', 'WarrantyCost']\n"
          ],
          "name": "stdout"
        }
      ]
    },
    {
      "cell_type": "code",
      "metadata": {
        "id": "NS2DJJbKymnZ"
      },
      "source": [
        "D.to_csv('input_to_model.csv')"
      ],
      "execution_count": null,
      "outputs": []
    }
  ]
}